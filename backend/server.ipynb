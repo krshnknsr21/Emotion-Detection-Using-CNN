{
 "cells": [
  {
   "cell_type": "code",
   "execution_count": null,
   "metadata": {},
   "outputs": [],
   "source": [
    "from flask import Flask, request, jsonify\n",
    "import numpy as np\n",
    "from keras.preprocessing.sequence import pad_sequences\n",
    "import pickle\n",
    "\n",
    "# Max input length (max number of words) \n",
    "max_seq_len = 500\n",
    "\n",
    "class_names = ['Happy', 'Fear', 'Angry', 'Sad']\n",
    "\n",
    "model = pickle.load(open('./text_model.pickle', 'rb'))\n",
    "tokenizer = pickle.load(open('./tokenizer.pickle', 'rb'))\n",
    "\n",
    "app = Flask(__name__)\n",
    "\n",
    "@app.route('/getmood', methods=['GET'])\n",
    "def get_mood():\n",
    "    input = request.args.get('input')\n",
    "    message = [input]\n",
    "    print(message)\n",
    "    # message = ['I am sad']\n",
    "\n",
    "    seq = tokenizer.texts_to_sequences(message)\n",
    "    padded = pad_sequences(seq, maxlen=max_seq_len)\n",
    "    pred = model.predict(padded)\n",
    "\n",
    "    print(pred)\n",
    "\n",
    "    output = class_names[np.argmax(pred)]\n",
    "    data = {\n",
    "        'message': message,\n",
    "        'mood': output\n",
    "    }\n",
    "    print(output)\n",
    "    return jsonify(data)\n",
    "\n",
    "if __name__ == '__main__':\n",
    "    app.run()"
   ]
  }
 ],
 "metadata": {
  "kernelspec": {
   "display_name": "Python 3.7.11 ('machine_learning')",
   "language": "python",
   "name": "python3"
  },
  "language_info": {
   "codemirror_mode": {
    "name": "ipython",
    "version": 3
   },
   "file_extension": ".py",
   "mimetype": "text/x-python",
   "name": "python",
   "nbconvert_exporter": "python",
   "pygments_lexer": "ipython3",
   "version": "3.7.11"
  },
  "orig_nbformat": 4,
  "vscode": {
   "interpreter": {
    "hash": "72fd977071d8a325c89946734ebdd84ca04cd1ddcd4553ef7fac0759bd651065"
   }
  }
 },
 "nbformat": 4,
 "nbformat_minor": 2
}
