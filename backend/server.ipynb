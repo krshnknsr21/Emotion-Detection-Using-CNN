{
 "cells": [
  {
   "cell_type": "code",
   "execution_count": 1,
   "metadata": {},
   "outputs": [
    {
     "name": "stderr",
     "output_type": "stream",
     "text": [
      "Using TensorFlow backend.\n"
     ]
    },
    {
     "name": "stdout",
     "output_type": "stream",
     "text": [
      " * Serving Flask app \"__main__\" (lazy loading)\n",
      " * Environment: production\n",
      "\u001b[31m   WARNING: This is a development server. Do not use it in a production deployment.\u001b[0m\n",
      "\u001b[2m   Use a production WSGI server instead.\u001b[0m\n",
      " * Debug mode: off\n"
     ]
    },
    {
     "name": "stderr",
     "output_type": "stream",
     "text": [
      " * Running on http://127.0.0.1:5000/ (Press CTRL+C to quit)\n"
     ]
    },
    {
     "name": "stdout",
     "output_type": "stream",
     "text": [
      "['I did a lot of work today']\n"
     ]
    },
    {
     "name": "stderr",
     "output_type": "stream",
     "text": [
      "127.0.0.1 - - [09/Oct/2022 23:04:50] \"\u001b[37mGET /getmood?input=I%20did%20a%20lot%20of%20work%20today HTTP/1.1\u001b[0m\" 200 -\n",
      "127.0.0.1 - - [09/Oct/2022 23:04:50] \"\u001b[37mGET /getmood?input=I%20did%20a%20lot%20of%20work%20today HTTP/1.1\u001b[0m\" 200 -\n",
      "127.0.0.1 - - [09/Oct/2022 23:04:50] \"\u001b[37mGET /getmood?input=I%20did%20a%20lot%20of%20work%20today HTTP/1.1\u001b[0m\" 200 -\n",
      "127.0.0.1 - - [09/Oct/2022 23:04:50] \"\u001b[37mGET /getmood?input=I%20did%20a%20lot%20of%20work%20today HTTP/1.1\u001b[0m\" 200 -\n",
      "127.0.0.1 - - [09/Oct/2022 23:04:50] \"\u001b[37mGET /getmood?input=I%20did%20a%20lot%20of%20work%20today HTTP/1.1\u001b[0m\" 200 -\n",
      "127.0.0.1 - - [09/Oct/2022 23:04:50] \"\u001b[37mGET /getmood?input=I%20did%20a%20lot%20of%20work%20today HTTP/1.1\u001b[0m\" 200 -\n",
      "127.0.0.1 - - [09/Oct/2022 23:04:50] \"\u001b[37mGET /getmood?input=I%20did%20a%20lot%20of%20work%20today HTTP/1.1\u001b[0m\" 200 -\n",
      "127.0.0.1 - - [09/Oct/2022 23:04:50] \"\u001b[37mGET /getmood?input=I%20did%20a%20lot%20of%20work%20today HTTP/1.1\u001b[0m\" 200 -\n"
     ]
    },
    {
     "name": "stdout",
     "output_type": "stream",
     "text": [
      "[[0.17697518 0.01333998 0.01799232 0.79169255]]\n",
      "Sad\n",
      "['I did a lot of work today']\n",
      "[[0.17697518 0.01333998 0.01799232 0.79169255]]\n",
      "Sad\n",
      "['I did a lot of work today']\n",
      "[[0.17697518 0.01333998 0.01799232 0.79169255]]\n",
      "Sad\n",
      "['I did a lot of work today']\n",
      "[[0.17697518 0.01333998 0.01799232 0.79169255]]\n",
      "Sad\n",
      "['I did a lot of work today']\n",
      "[[0.17697518 0.01333998 0.01799232 0.79169255]]\n",
      "Sad\n",
      "['I did a lot of work today']\n",
      "[[0.17697518 0.01333998 0.01799232 0.79169255]]\n",
      "Sad\n",
      "['I did a lot of work today']\n",
      "[[0.17697518 0.01333998 0.01799232 0.79169255]]\n",
      "Sad\n",
      "['I did a lot of work today']\n",
      "[[0.17697518 0.01333998 0.01799232 0.79169255]]\n",
      "Sad\n"
     ]
    },
    {
     "name": "stderr",
     "output_type": "stream",
     "text": [
      "127.0.0.1 - - [09/Oct/2022 23:04:53] \"\u001b[37mGET /getmood?input=I%20did%20a%20lot%20of%20work%20today HTTP/1.1\u001b[0m\" 200 -\n"
     ]
    },
    {
     "name": "stdout",
     "output_type": "stream",
     "text": [
      "['I did a lot of work today']\n",
      "[[0.17697518 0.01333998 0.01799232 0.79169255]]\n",
      "Sad\n"
     ]
    },
    {
     "name": "stderr",
     "output_type": "stream",
     "text": [
      "127.0.0.1 - - [09/Oct/2022 23:06:32] \"\u001b[37mGET /getmood?input=I%20did%20a%20lot%20of%20work%20today HTTP/1.1\u001b[0m\" 200 -\n"
     ]
    },
    {
     "name": "stdout",
     "output_type": "stream",
     "text": [
      "['I did a lot of work today']\n",
      "[[0.17697518 0.01333998 0.01799232 0.79169255]]\n",
      "Sad\n"
     ]
    },
    {
     "name": "stderr",
     "output_type": "stream",
     "text": [
      "127.0.0.1 - - [09/Oct/2022 23:06:41] \"\u001b[37mGET /getmood?input=I%20am%20happy HTTP/1.1\u001b[0m\" 200 -\n"
     ]
    },
    {
     "name": "stdout",
     "output_type": "stream",
     "text": [
      "['I am happy']\n",
      "[[9.9003112e-01 3.0302012e-05 7.8446617e-05 9.8601282e-03]]\n",
      "Happy\n"
     ]
    },
    {
     "name": "stderr",
     "output_type": "stream",
     "text": [
      "127.0.0.1 - - [09/Oct/2022 23:06:49] \"\u001b[37mGET /getmood?input=i%20am%20sad HTTP/1.1\u001b[0m\" 200 -\n"
     ]
    },
    {
     "name": "stdout",
     "output_type": "stream",
     "text": [
      "['i am sad']\n",
      "[[2.4980244e-03 1.3719298e-04 1.6260729e-04 9.9720216e-01]]\n",
      "Sad\n"
     ]
    }
   ],
   "source": [
    "from flask import Flask, request, jsonify\n",
    "import numpy as np\n",
    "from keras.preprocessing.sequence import pad_sequences\n",
    "import pickle\n",
    "\n",
    "# Max input length (max number of words) \n",
    "max_seq_len = 500\n",
    "\n",
    "class_names = ['Happy', 'Fear', 'Angry', 'Sad']\n",
    "\n",
    "model = pickle.load(open('./text_model.pickle', 'rb'))\n",
    "tokenizer = pickle.load(open('./tokenizer.pickle', 'rb'))\n",
    "\n",
    "app = Flask(__name__)\n",
    "\n",
    "@app.route('/getmood', methods=['GET'])\n",
    "def get_mood():\n",
    "    input = request.args.get('input')\n",
    "    message = [input]\n",
    "    print(message)\n",
    "    # message = ['I am sad']\n",
    "\n",
    "    seq = tokenizer.texts_to_sequences(message)\n",
    "    padded = pad_sequences(seq, maxlen=max_seq_len)\n",
    "    pred = model.predict(padded)\n",
    "\n",
    "    print(pred)\n",
    "\n",
    "    output = class_names[np.argmax(pred)]\n",
    "    data = {\n",
    "        'message': message,\n",
    "        'mood': output\n",
    "    }\n",
    "    print(output)\n",
    "    return jsonify(data)\n",
    "\n",
    "if __name__ == '__main__':\n",
    "    app.run()"
   ]
  },
  {
   "cell_type": "code",
   "execution_count": null,
   "metadata": {},
   "outputs": [],
   "source": []
  }
 ],
 "metadata": {
  "kernelspec": {
   "display_name": "Python 3.7.11 ('machine_learning')",
   "language": "python",
   "name": "python3"
  },
  "language_info": {
   "codemirror_mode": {
    "name": "ipython",
    "version": 3
   },
   "file_extension": ".py",
   "mimetype": "text/x-python",
   "name": "python",
   "nbconvert_exporter": "python",
   "pygments_lexer": "ipython3",
   "version": "3.7.11"
  },
  "orig_nbformat": 4,
  "vscode": {
   "interpreter": {
    "hash": "72fd977071d8a325c89946734ebdd84ca04cd1ddcd4553ef7fac0759bd651065"
   }
  }
 },
 "nbformat": 4,
 "nbformat_minor": 2
}
