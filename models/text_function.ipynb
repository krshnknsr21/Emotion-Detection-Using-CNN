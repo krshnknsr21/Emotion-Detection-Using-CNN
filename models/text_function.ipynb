{
 "cells": [
  {
   "cell_type": "code",
   "execution_count": 20,
   "metadata": {},
   "outputs": [],
   "source": [
    "import numpy as np\n",
    "import time\n",
    "from keras.preprocessing.sequence import pad_sequences\n",
    "import pickle"
   ]
  },
  {
   "cell_type": "code",
   "execution_count": 21,
   "metadata": {},
   "outputs": [],
   "source": [
    "# Max input length (max number of words) \n",
    "max_seq_len = 500\n",
    "class_names = ['joy', 'fear', 'anger', 'sadness']"
   ]
  },
  {
   "cell_type": "code",
   "execution_count": 22,
   "metadata": {},
   "outputs": [],
   "source": [
    "model = pickle.load(open('./text_model.pickle', 'rb'))\n",
    "tokenizer = pickle.load(open('./tokenizer.pickle', 'rb'))"
   ]
  },
  {
   "cell_type": "code",
   "execution_count": 28,
   "metadata": {},
   "outputs": [
    {
     "name": "stdout",
     "output_type": "stream",
     "text": [
      "<class 'str'> [0.13304007 0.10482003 0.6271572  0.1349827 ]\n",
      "Message: ['this is not acceptable']\n",
      "predicted: anger (0.01 seconds)\n"
     ]
    }
   ],
   "source": [
    "message = ['this is not acceptable']\n",
    "\n",
    "seq = tokenizer.texts_to_sequences(message)\n",
    "padded = pad_sequences(seq, maxlen=max_seq_len)\n",
    "start_time = time.time()\n",
    "pred = model.predict(padded)\n",
    "\n",
    "print('Message: ' + str(message))\n",
    "print('predicted: {} ({:.2f} seconds)'.format(class_names[np.argmax(pred)], (time.time() - start_time)))"
   ]
  }
 ],
 "metadata": {
  "interpreter": {
   "hash": "064fe580e3281ace04e06093ecd9385f58decb94618ce3488113ad309f76f1d0"
  },
  "kernelspec": {
   "display_name": "Python 3.7.9 ('machine_learning')",
   "language": "python",
   "name": "python3"
  },
  "language_info": {
   "codemirror_mode": {
    "name": "ipython",
    "version": 3
   },
   "file_extension": ".py",
   "mimetype": "text/x-python",
   "name": "python",
   "nbconvert_exporter": "python",
   "pygments_lexer": "ipython3",
   "version": "3.7.11"
  },
  "orig_nbformat": 4
 },
 "nbformat": 4,
 "nbformat_minor": 2
}
