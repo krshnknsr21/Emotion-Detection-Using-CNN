{
 "cells": [
  {
   "cell_type": "code",
   "execution_count": 8,
   "metadata": {},
   "outputs": [],
   "source": [
    "import numpy as np\n",
    "import time\n",
    "from keras.preprocessing.sequence import pad_sequences\n",
    "import pickle\n",
    "import pandas as pd"
   ]
  },
  {
   "cell_type": "code",
   "execution_count": 9,
   "metadata": {},
   "outputs": [],
   "source": [
    "# Max input length (max number of words) \n",
    "max_seq_len = 500\n",
    "class_names = ['joy', 'fear', 'anger', 'sad', 'neutral']\n",
    "test_data = \"./testing.csv\"\n",
    "testframe = pd.read_csv(test_data)"
   ]
  },
  {
   "cell_type": "code",
   "execution_count": 10,
   "metadata": {},
   "outputs": [
    {
     "data": {
      "text/plain": [
       "array(['neutral', 'joy', 'fear', 'sadness', 'anger'], dtype=object)"
      ]
     },
     "execution_count": 10,
     "metadata": {},
     "output_type": "execute_result"
    }
   ],
   "source": [
    "testframe['Emotion'].unique()"
   ]
  },
  {
   "cell_type": "code",
   "execution_count": 11,
   "metadata": {},
   "outputs": [],
   "source": [
    "model = pickle.load(open('./emotion_detect_1.pickle', 'rb'))\n",
    "tokenizer = pickle.load(open('./tokenizer_1.pickle', 'rb'))"
   ]
  },
  {
   "cell_type": "code",
   "execution_count": 12,
   "metadata": {},
   "outputs": [
    {
     "name": "stdout",
     "output_type": "stream",
     "text": [
      "1\n",
      "[[0.87094104 0.11208087 0.00217439 0.00516374 0.00963995]]\n",
      "Message: [\"Achieving my goal at a swim meet. I worked toward the goal for 9 yrs. I was capable of achieving it, but I didn't know when.\"]\n",
      "predicted: joy (0.05 seconds)\n"
     ]
    }
   ],
   "source": [
    "message = ['Achieving my goal at a swim meet. I worked toward the goal for 9 yrs. I was capable of achieving it, but I didn\\'t know when.']\n",
    "\n",
    "seq = tokenizer.texts_to_sequences(message)\n",
    "padded = pad_sequences(seq, maxlen=max_seq_len)\n",
    "start_time = time.time()\n",
    "pred = model.predict(padded)\n",
    "print(len(pred))\n",
    "print(pred)\n",
    "print('Message: ' + str(message))\n",
    "print('predicted: {} ({:.2f} seconds)'.format(class_names[np.argmax(pred)], (time.time() - start_time)))"
   ]
  },
  {
   "cell_type": "code",
   "execution_count": 13,
   "metadata": {},
   "outputs": [
    {
     "name": "stdout",
     "output_type": "stream",
     "text": [
      "0.7480463826569196\n"
     ]
    }
   ],
   "source": [
    "correct = 0\n",
    "wrong = 0\n",
    "for (colname,colval) in testframe.iterrows():\n",
    "    # print(f'colname = {colname}, colval = {colval.values[2]}')\n",
    "    seq = tokenizer.texts_to_sequences([colval.values[2]])\n",
    "    padded = pad_sequences(seq, maxlen=max_seq_len)\n",
    "    p = model.predict(padded)\n",
    "    # print(np.argmax(p))\n",
    "    output = class_names[np.argmax(p)]\n",
    "    if output == colval.values[1]:\n",
    "        correct += 1\n",
    "    else:\n",
    "        wrong += 1\n",
    "print(correct / (correct + wrong))"
   ]
  },
  {
   "cell_type": "code",
   "execution_count": 14,
   "metadata": {},
   "outputs": [],
   "source": [
    "# df = pd.read_csv(\"../datasets/data_train.csv\")"
   ]
  },
  {
   "cell_type": "code",
   "execution_count": 15,
   "metadata": {},
   "outputs": [],
   "source": [
    "# from sklearn.utils import shuffle\n",
    "# df = shuffle(df)"
   ]
  },
  {
   "cell_type": "code",
   "execution_count": 16,
   "metadata": {},
   "outputs": [],
   "source": [
    "# for i in range(4):\n",
    "#     df = df.append(shuffle(df), ignore_index=True)"
   ]
  },
  {
   "cell_type": "code",
   "execution_count": 17,
   "metadata": {},
   "outputs": [
    {
     "data": {
      "text/plain": [
       "(126944, 2)"
      ]
     },
     "execution_count": 17,
     "metadata": {},
     "output_type": "execute_result"
    }
   ],
   "source": [
    "# df.shape"
   ]
  },
  {
   "cell_type": "code",
   "execution_count": 18,
   "metadata": {},
   "outputs": [],
   "source": [
    "# df.to_csv('testing.csv')"
   ]
  }
 ],
 "metadata": {
  "kernelspec": {
   "display_name": "Python 3.7.11 ('machine_learning')",
   "language": "python",
   "name": "python3"
  },
  "language_info": {
   "codemirror_mode": {
    "name": "ipython",
    "version": 3
   },
   "file_extension": ".py",
   "mimetype": "text/x-python",
   "name": "python",
   "nbconvert_exporter": "python",
   "pygments_lexer": "ipython3",
   "version": "3.7.11"
  },
  "orig_nbformat": 4,
  "vscode": {
   "interpreter": {
    "hash": "72fd977071d8a325c89946734ebdd84ca04cd1ddcd4553ef7fac0759bd651065"
   }
  }
 },
 "nbformat": 4,
 "nbformat_minor": 2
}
